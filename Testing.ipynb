{
 "cells": [
  {
   "cell_type": "code",
   "execution_count": 1,
   "metadata": {},
   "outputs": [
    {
     "name": "stderr",
     "output_type": "stream",
     "text": [
      "C:\\Users\\Aizaz Hussain\\AppData\\Local\\Continuum\\anaconda3\\lib\\site-packages\\sklearn\\externals\\joblib\\__init__.py:15: DeprecationWarning: sklearn.externals.joblib is deprecated in 0.21 and will be removed in 0.23. Please import this functionality directly from joblib, which can be installed with: pip install joblib. If this warning is raised when loading pickled models, you may need to re-serialize those models with scikit-learn 0.21+.\n",
      "  warnings.warn(msg, category=DeprecationWarning)\n"
     ]
    }
   ],
   "source": [
    "from sklearn.externals import joblib\n",
    "import numpy as np\n",
    "from skimage.feature import hog\n",
    "import pickle\n",
    "\n",
    "myModel = joblib.load('myModel.pkl')\n",
    "Xts=np.loadtxt(\"TestData.csv\")\n",
    "\n",
    "def reshape_images(Xts):\n",
    "    list_img = []\n",
    "    for row in Xts:\n",
    "        list_img.append(row.reshape([28,28]))\n",
    "    return list_img\n",
    "\n",
    "def extract_features(reshaped_images):\n",
    "    ext_feat = []\n",
    "    for features in reshaped_images:\n",
    "        ext_feat.append(hog(features, orientations=8, pixels_per_cell=(8, 8), cells_per_block=(2, 2), visualize=False, multichannel=False))\n",
    "    return ext_feat\n",
    "\n",
    "list_features = extract_features(reshape_images(Xts))\n",
    "with open('myModel.pkl', 'rb') as f:\n",
    "    clf,clg = pickle.load(f)\n",
    "clf.predict(list_features)\n",
    "b=np.array(clg.predict(list_features))\n",
    "np.savetxt(\"myPredictions.csv\", b)"
   ]
  }
 ],
 "metadata": {
  "kernelspec": {
   "display_name": "Python 3",
   "language": "python",
   "name": "python3"
  },
  "language_info": {
   "codemirror_mode": {
    "name": "ipython",
    "version": 3
   },
   "file_extension": ".py",
   "mimetype": "text/x-python",
   "name": "python",
   "nbconvert_exporter": "python",
   "pygments_lexer": "ipython3",
   "version": "3.7.4"
  }
 },
 "nbformat": 4,
 "nbformat_minor": 2
}
